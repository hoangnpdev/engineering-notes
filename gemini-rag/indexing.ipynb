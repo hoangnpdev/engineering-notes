{
 "cells": [
  {
   "cell_type": "code",
   "execution_count": null,
   "id": "ca963996",
   "metadata": {},
   "outputs": [],
   "source": [
    "can i use redshift spectrum without setting my own redshift cluster?"
   ]
  }
 ],
 "metadata": {
  "language_info": {
   "name": "python"
  }
 },
 "nbformat": 4,
 "nbformat_minor": 5
}
